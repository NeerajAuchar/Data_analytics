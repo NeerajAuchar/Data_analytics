{
 "cells": [
  {
   "cell_type": "code",
   "execution_count": 1,
   "id": "9babe680",
   "metadata": {},
   "outputs": [],
   "source": [
    "import numpy as np"
   ]
  },
  {
   "cell_type": "code",
   "execution_count": 4,
   "id": "c7ad6a76",
   "metadata": {},
   "outputs": [
    {
     "name": "stdout",
     "output_type": "stream",
     "text": [
      "[['LoanID' 'StringID' 'Product' ... 'Location' 'Region' 'TotalPrice']\n",
      " ['1' 'id_1' 'Product B' ... 'Location 2' 'Region 2' '16600.0']\n",
      " ['2' 'id_2' 'Product B' ... 'Location 3' '' '16600.0']\n",
      " ...\n",
      " ['1041' 'id_1041' 'Product B' ... 'Location 23' 'Region 4' '16600.0']\n",
      " ['1042' 'id_1042' 'Product C' ... 'Location 52' 'Region 6' '15600.0']\n",
      " ['1043' 'id_1043' 'Product B' ... 'Location 142' 'Region 6' '16600.0']]\n"
     ]
    }
   ],
   "source": [
    "lending_co = np.genfromtxt('Lending-Company-Saving.csv', delimiter=',' , dtype=np.str_)\n",
    "print(lending_co)"
   ]
  },
  {
   "cell_type": "code",
   "execution_count": 5,
   "id": "834e2bcc",
   "metadata": {},
   "outputs": [],
   "source": [
    "np.save(\"Lending-company-sav-numpy\", lending_co)"
   ]
  },
  {
   "cell_type": "code",
   "execution_count": 6,
   "id": "df925720",
   "metadata": {},
   "outputs": [],
   "source": [
    "data = np.load(\"Lending-company-sav-numpy.npy\")"
   ]
  },
  {
   "cell_type": "code",
   "execution_count": 7,
   "id": "b4c62811",
   "metadata": {},
   "outputs": [],
   "source": [
    "np.savez(\"lending-data\", lending_co)"
   ]
  },
  {
   "cell_type": "code",
   "execution_count": null,
   "id": "170ebc72",
   "metadata": {},
   "outputs": [],
   "source": []
  }
 ],
 "metadata": {
  "kernelspec": {
   "display_name": "Python 3 (ipykernel)",
   "language": "python",
   "name": "python3"
  },
  "language_info": {
   "codemirror_mode": {
    "name": "ipython",
    "version": 3
   },
   "file_extension": ".py",
   "mimetype": "text/x-python",
   "name": "python",
   "nbconvert_exporter": "python",
   "pygments_lexer": "ipython3",
   "version": "3.11.5"
  }
 },
 "nbformat": 4,
 "nbformat_minor": 5
}
