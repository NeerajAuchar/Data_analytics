{
 "cells": [
  {
   "cell_type": "code",
   "execution_count": 1,
   "id": "13ecb1aa",
   "metadata": {},
   "outputs": [],
   "source": [
    "import pandas as pd"
   ]
  },
  {
   "cell_type": "code",
   "execution_count": 2,
   "id": "3c304c7d",
   "metadata": {},
   "outputs": [],
   "source": [
    "products = ['A', 'B', 'C', 'D']"
   ]
  },
  {
   "cell_type": "code",
   "execution_count": 3,
   "id": "16f012c7",
   "metadata": {},
   "outputs": [
    {
     "data": {
      "text/plain": [
       "list"
      ]
     },
     "execution_count": 3,
     "metadata": {},
     "output_type": "execute_result"
    }
   ],
   "source": [
    "type(products)"
   ]
  },
  {
   "cell_type": "code",
   "execution_count": 4,
   "id": "735b7993",
   "metadata": {},
   "outputs": [],
   "source": [
    "products_categories = pd.Series(products)"
   ]
  },
  {
   "cell_type": "code",
   "execution_count": 5,
   "id": "fac6d71c",
   "metadata": {},
   "outputs": [
    {
     "data": {
      "text/plain": [
       "0    A\n",
       "1    B\n",
       "2    C\n",
       "3    D\n",
       "dtype: object"
      ]
     },
     "execution_count": 5,
     "metadata": {},
     "output_type": "execute_result"
    }
   ],
   "source": [
    "products_categories"
   ]
  },
  {
   "cell_type": "code",
   "execution_count": 10,
   "id": "1323b6fb",
   "metadata": {},
   "outputs": [],
   "source": [
    "dollars_rates = [12, 23, 45]"
   ]
  },
  {
   "cell_type": "code",
   "execution_count": 11,
   "id": "a87fbde9",
   "metadata": {},
   "outputs": [
    {
     "data": {
      "text/plain": [
       "list"
      ]
     },
     "execution_count": 11,
     "metadata": {},
     "output_type": "execute_result"
    }
   ],
   "source": [
    "type(dollars_rates)"
   ]
  },
  {
   "cell_type": "code",
   "execution_count": 12,
   "id": "c9d1815c",
   "metadata": {},
   "outputs": [],
   "source": [
    "new_dollars = pd.Series(dollars_rates)"
   ]
  },
  {
   "cell_type": "code",
   "execution_count": 13,
   "id": "7f4c49f4",
   "metadata": {},
   "outputs": [
    {
     "data": {
      "text/plain": [
       "0    12\n",
       "1    23\n",
       "2    45\n",
       "dtype: int64"
      ]
     },
     "execution_count": 13,
     "metadata": {},
     "output_type": "execute_result"
    }
   ],
   "source": [
    "new_dollars\n"
   ]
  },
  {
   "cell_type": "code",
   "execution_count": 14,
   "id": "6ef22335",
   "metadata": {},
   "outputs": [],
   "source": [
    "import numpy as np"
   ]
  },
  {
   "cell_type": "code",
   "execution_count": 15,
   "id": "7e17dcbd",
   "metadata": {},
   "outputs": [],
   "source": [
    "array_a = np.array([10, 20, 30, 40])"
   ]
  },
  {
   "cell_type": "code",
   "execution_count": 16,
   "id": "d56ee170",
   "metadata": {},
   "outputs": [
    {
     "name": "stdout",
     "output_type": "stream",
     "text": [
      "[10 20 30 40]\n"
     ]
    }
   ],
   "source": [
    "print(array_a)"
   ]
  },
  {
   "cell_type": "code",
   "execution_count": 17,
   "id": "4504f9c8",
   "metadata": {},
   "outputs": [
    {
     "data": {
      "text/plain": [
       "numpy.ndarray"
      ]
     },
     "execution_count": 17,
     "metadata": {},
     "output_type": "execute_result"
    }
   ],
   "source": [
    "type(array_a)"
   ]
  },
  {
   "cell_type": "code",
   "execution_count": 18,
   "id": "ac52b4e6",
   "metadata": {},
   "outputs": [],
   "source": [
    "series_a = pd.Series(array_a)"
   ]
  },
  {
   "cell_type": "code",
   "execution_count": 19,
   "id": "925bb141",
   "metadata": {},
   "outputs": [
    {
     "name": "stdout",
     "output_type": "stream",
     "text": [
      "0    10\n",
      "1    20\n",
      "2    30\n",
      "3    40\n",
      "dtype: int64\n"
     ]
    }
   ],
   "source": [
    "print(series_a)"
   ]
  },
  {
   "cell_type": "code",
   "execution_count": 20,
   "id": "6e1b16ca",
   "metadata": {},
   "outputs": [
    {
     "data": {
      "text/plain": [
       "pandas.core.series.Series"
      ]
     },
     "execution_count": 20,
     "metadata": {},
     "output_type": "execute_result"
    }
   ],
   "source": [
    "type(series_a)"
   ]
  },
  {
   "cell_type": "code",
   "execution_count": 21,
   "id": "147d50cf",
   "metadata": {},
   "outputs": [],
   "source": [
    "series_b = pd.Series([10, 20, 30, 40, 50])"
   ]
  },
  {
   "cell_type": "code",
   "execution_count": 22,
   "id": "9a55c441",
   "metadata": {},
   "outputs": [
    {
     "data": {
      "text/plain": [
       "0    10\n",
       "1    20\n",
       "2    30\n",
       "3    40\n",
       "4    50\n",
       "dtype: int64"
      ]
     },
     "execution_count": 22,
     "metadata": {},
     "output_type": "execute_result"
    }
   ],
   "source": [
    "series_b"
   ]
  },
  {
   "cell_type": "code",
   "execution_count": 23,
   "id": "1fc4112b",
   "metadata": {},
   "outputs": [
    {
     "data": {
      "text/plain": [
       "dtype('int64')"
      ]
     },
     "execution_count": 23,
     "metadata": {},
     "output_type": "execute_result"
    }
   ],
   "source": [
    "series_b.dtype"
   ]
  },
  {
   "cell_type": "code",
   "execution_count": 24,
   "id": "8d5b2769",
   "metadata": {},
   "outputs": [
    {
     "data": {
      "text/plain": [
       "5"
      ]
     },
     "execution_count": 24,
     "metadata": {},
     "output_type": "execute_result"
    }
   ],
   "source": [
    "series_b.size"
   ]
  },
  {
   "cell_type": "code",
   "execution_count": 25,
   "id": "69c2fb4d",
   "metadata": {},
   "outputs": [],
   "source": [
    "series_b.name = 'neeraj'"
   ]
  },
  {
   "cell_type": "code",
   "execution_count": 26,
   "id": "f8d92d9b",
   "metadata": {},
   "outputs": [
    {
     "name": "stdout",
     "output_type": "stream",
     "text": [
      "neeraj\n"
     ]
    }
   ],
   "source": [
    "print(series_b.name)"
   ]
  },
  {
   "cell_type": "code",
   "execution_count": 27,
   "id": "d6d82e90",
   "metadata": {},
   "outputs": [
    {
     "data": {
      "text/plain": [
       "0    10\n",
       "1    20\n",
       "2    30\n",
       "3    40\n",
       "4    50\n",
       "Name: neeraj, dtype: int64"
      ]
     },
     "execution_count": 27,
     "metadata": {},
     "output_type": "execute_result"
    }
   ],
   "source": [
    "series_b"
   ]
  },
  {
   "cell_type": "code",
   "execution_count": null,
   "id": "4edb05b5",
   "metadata": {},
   "outputs": [],
   "source": []
  }
 ],
 "metadata": {
  "kernelspec": {
   "display_name": "Python 3 (ipykernel)",
   "language": "python",
   "name": "python3"
  },
  "language_info": {
   "codemirror_mode": {
    "name": "ipython",
    "version": 3
   },
   "file_extension": ".py",
   "mimetype": "text/x-python",
   "name": "python",
   "nbconvert_exporter": "python",
   "pygments_lexer": "ipython3",
   "version": "3.11.5"
  }
 },
 "nbformat": 4,
 "nbformat_minor": 5
}
