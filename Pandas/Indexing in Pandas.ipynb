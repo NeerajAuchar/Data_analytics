{
 "cells": [
  {
   "cell_type": "code",
   "execution_count": 2,
   "id": "e6c8bf2c",
   "metadata": {},
   "outputs": [],
   "source": [
    "import pandas as pd"
   ]
  },
  {
   "cell_type": "code",
   "execution_count": 11,
   "id": "604e6044",
   "metadata": {},
   "outputs": [],
   "source": [
    "prices = {'Neeraj' : 9.10 , 'D' : 4.34 , 'A' : 6.75}"
   ]
  },
  {
   "cell_type": "code",
   "execution_count": 3,
   "id": "8cc65f27",
   "metadata": {},
   "outputs": [
    {
     "data": {
      "text/plain": [
       "dict"
      ]
     },
     "execution_count": 3,
     "metadata": {},
     "output_type": "execute_result"
    }
   ],
   "source": [
    "type(prices)"
   ]
  },
  {
   "cell_type": "code",
   "execution_count": 4,
   "id": "b0733d90",
   "metadata": {},
   "outputs": [],
   "source": [
    "pricesSeries = pd.Series(prices)"
   ]
  },
  {
   "cell_type": "code",
   "execution_count": 5,
   "id": "2c667587",
   "metadata": {},
   "outputs": [
    {
     "data": {
      "text/plain": [
       "pandas.core.series.Series"
      ]
     },
     "execution_count": 5,
     "metadata": {},
     "output_type": "execute_result"
    }
   ],
   "source": [
    "type(pricesSeries)"
   ]
  },
  {
   "cell_type": "code",
   "execution_count": 6,
   "id": "81037cd1",
   "metadata": {},
   "outputs": [
    {
     "data": {
      "text/plain": [
       "Index(['Neeraj', 'D', 'A'], dtype='object')"
      ]
     },
     "execution_count": 6,
     "metadata": {},
     "output_type": "execute_result"
    }
   ],
   "source": [
    "pricesSeries.index"
   ]
  },
  {
   "cell_type": "code",
   "execution_count": 7,
   "id": "9c442d4c",
   "metadata": {},
   "outputs": [
    {
     "data": {
      "text/plain": [
       "<bound method NDFrame.infer_objects of Neeraj    9.10\n",
       "D         4.34\n",
       "A         6.75\n",
       "dtype: float64>"
      ]
     },
     "execution_count": 7,
     "metadata": {},
     "output_type": "execute_result"
    }
   ],
   "source": [
    "pricesSeries.infer_objects"
   ]
  },
  {
   "cell_type": "code",
   "execution_count": 8,
   "id": "1f71bb9d",
   "metadata": {},
   "outputs": [
    {
     "data": {
      "text/plain": [
       "pandas.core.indexes.base.Index"
      ]
     },
     "execution_count": 8,
     "metadata": {},
     "output_type": "execute_result"
    }
   ],
   "source": [
    "type(pricesSeries.index)"
   ]
  },
  {
   "cell_type": "code",
   "execution_count": 8,
   "id": "0e6a7613",
   "metadata": {},
   "outputs": [
    {
     "data": {
      "text/plain": [
       "1    11\n",
       "2    12\n",
       "3    13\n",
       "4    14\n",
       "5    15\n",
       "6    16\n",
       "7    17\n",
       "dtype: int64"
      ]
     },
     "execution_count": 8,
     "metadata": {},
     "output_type": "execute_result"
    }
   ],
   "source": [
    "newIndex = pd.Series([11, 12, 13, 14, 15, 16, 17] , index = [1, 2, 3, 4, 5, 6, 7])  #explicite indexing \n",
    "newIndex"
   ]
  },
  {
   "cell_type": "code",
   "execution_count": null,
   "id": "478c1838",
   "metadata": {},
   "outputs": [],
   "source": []
  }
 ],
 "metadata": {
  "kernelspec": {
   "display_name": "Python 3 (ipykernel)",
   "language": "python",
   "name": "python3"
  },
  "language_info": {
   "codemirror_mode": {
    "name": "ipython",
    "version": 3
   },
   "file_extension": ".py",
   "mimetype": "text/x-python",
   "name": "python",
   "nbconvert_exporter": "python",
   "pygments_lexer": "ipython3",
   "version": "3.11.5"
  }
 },
 "nbformat": 4,
 "nbformat_minor": 5
}
