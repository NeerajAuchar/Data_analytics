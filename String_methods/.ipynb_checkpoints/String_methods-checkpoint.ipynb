{
 "cells": [
  {
   "cell_type": "code",
   "execution_count": 1,
   "id": "eeb49c62",
   "metadata": {},
   "outputs": [
    {
     "data": {
      "text/plain": [
       "'Neeraj Vijay Auchar'"
      ]
     },
     "execution_count": 1,
     "metadata": {},
     "output_type": "execute_result"
    }
   ],
   "source": [
    "s = 'Neeraj Vijay Auchar'\n",
    "s"
   ]
  },
  {
   "cell_type": "code",
   "execution_count": 4,
   "id": "0d9a5047",
   "metadata": {},
   "outputs": [
    {
     "data": {
      "text/plain": [
       "'Raj Auchar'"
      ]
     },
     "execution_count": 4,
     "metadata": {},
     "output_type": "execute_result"
    }
   ],
   "source": [
    "s1 = s.replace('Neeraj', 'Raj')\n",
    "s1"
   ]
  },
  {
   "cell_type": "code",
   "execution_count": 6,
   "id": "7769e465",
   "metadata": {},
   "outputs": [
    {
     "data": {
      "text/plain": [
       "False"
      ]
     },
     "execution_count": 6,
     "metadata": {},
     "output_type": "execute_result"
    }
   ],
   "source": [
    "s1.startswith('raj')"
   ]
  },
  {
   "cell_type": "code",
   "execution_count": 11,
   "id": "2f0c0b32",
   "metadata": {},
   "outputs": [
    {
     "data": {
      "text/plain": [
       "True"
      ]
     },
     "execution_count": 11,
     "metadata": {},
     "output_type": "execute_result"
    }
   ],
   "source": [
    "s1.endswith('char')"
   ]
  },
  {
   "cell_type": "code",
   "execution_count": 15,
   "id": "0cd7d33a",
   "metadata": {},
   "outputs": [
    {
     "data": {
      "text/plain": [
       "['Neeraj', 'Vijay', 'Auchar']"
      ]
     },
     "execution_count": 15,
     "metadata": {},
     "output_type": "execute_result"
    }
   ],
   "source": [
    "s.split(' ')"
   ]
  },
  {
   "cell_type": "code",
   "execution_count": 5,
   "id": "5fb2ce44",
   "metadata": {},
   "outputs": [],
   "source": [
    "s2 = 'Aissms Ioit'"
   ]
  },
  {
   "cell_type": "code",
   "execution_count": 6,
   "id": "9ef17401",
   "metadata": {},
   "outputs": [
    {
     "data": {
      "text/plain": [
       "'AISSMS IOIT'"
      ]
     },
     "execution_count": 6,
     "metadata": {},
     "output_type": "execute_result"
    }
   ],
   "source": [
    "s2.upper()"
   ]
  },
  {
   "cell_type": "code",
   "execution_count": 7,
   "id": "21375bef",
   "metadata": {},
   "outputs": [
    {
     "data": {
      "text/plain": [
       "'aissms ioit'"
      ]
     },
     "execution_count": 7,
     "metadata": {},
     "output_type": "execute_result"
    }
   ],
   "source": [
    "s2.lower()"
   ]
  },
  {
   "cell_type": "code",
   "execution_count": 8,
   "id": "e38a0125",
   "metadata": {},
   "outputs": [
    {
     "data": {
      "text/plain": [
       "'Aissms ioit'"
      ]
     },
     "execution_count": 8,
     "metadata": {},
     "output_type": "execute_result"
    }
   ],
   "source": [
    "s2.capitalize()"
   ]
  },
  {
   "cell_type": "code",
   "execution_count": 9,
   "id": "d52bd00f",
   "metadata": {},
   "outputs": [
    {
     "data": {
      "text/plain": [
       "'Aissms Ioit'"
      ]
     },
     "execution_count": 9,
     "metadata": {},
     "output_type": "execute_result"
    }
   ],
   "source": [
    "s2.title()"
   ]
  },
  {
   "cell_type": "code",
   "execution_count": 10,
   "id": "e31f49f0",
   "metadata": {},
   "outputs": [
    {
     "data": {
      "text/plain": [
       "True"
      ]
     },
     "execution_count": 10,
     "metadata": {},
     "output_type": "execute_result"
    }
   ],
   "source": [
    "s2 == s2.title()"
   ]
  },
  {
   "cell_type": "code",
   "execution_count": 12,
   "id": "9e027799",
   "metadata": {},
   "outputs": [
    {
     "data": {
      "text/plain": [
       "'Neeraj Auchar'"
      ]
     },
     "execution_count": 12,
     "metadata": {},
     "output_type": "execute_result"
    }
   ],
   "source": [
    "'neeraj auchar'.title()"
   ]
  },
  {
   "cell_type": "code",
   "execution_count": 15,
   "id": "98c75230",
   "metadata": {},
   "outputs": [],
   "source": [
    "s4 = '   final year report   '"
   ]
  },
  {
   "cell_type": "code",
   "execution_count": 16,
   "id": "3cbdcb08",
   "metadata": {},
   "outputs": [
    {
     "data": {
      "text/plain": [
       "'final year report'"
      ]
     },
     "execution_count": 16,
     "metadata": {},
     "output_type": "execute_result"
    }
   ],
   "source": [
    "s4.strip()"
   ]
  },
  {
   "cell_type": "code",
   "execution_count": 17,
   "id": "394348bf",
   "metadata": {},
   "outputs": [
    {
     "data": {
      "text/plain": [
       "'final year report'"
      ]
     },
     "execution_count": 17,
     "metadata": {},
     "output_type": "execute_result"
    }
   ],
   "source": [
    "s4.strip(' ')"
   ]
  },
  {
   "cell_type": "code",
   "execution_count": 18,
   "id": "038052d5",
   "metadata": {},
   "outputs": [
    {
     "data": {
      "text/plain": [
       "'inal year repor'"
      ]
     },
     "execution_count": 18,
     "metadata": {},
     "output_type": "execute_result"
    }
   ],
   "source": [
    "s4.strip(' ft')"
   ]
  },
  {
   "cell_type": "code",
   "execution_count": 19,
   "id": "19decbb4",
   "metadata": {},
   "outputs": [
    {
     "data": {
      "text/plain": [
       "'   final year report   '"
      ]
     },
     "execution_count": 19,
     "metadata": {},
     "output_type": "execute_result"
    }
   ],
   "source": [
    "s4.strip('ft')"
   ]
  },
  {
   "cell_type": "code",
   "execution_count": 20,
   "id": "172614b4",
   "metadata": {},
   "outputs": [
    {
     "data": {
      "text/plain": [
       "'   final year report'"
      ]
     },
     "execution_count": 20,
     "metadata": {},
     "output_type": "execute_result"
    }
   ],
   "source": [
    "s4.rstrip()"
   ]
  },
  {
   "cell_type": "code",
   "execution_count": null,
   "id": "60766f56",
   "metadata": {},
   "outputs": [],
   "source": []
  }
 ],
 "metadata": {
  "kernelspec": {
   "display_name": "Python 3 (ipykernel)",
   "language": "python",
   "name": "python3"
  },
  "language_info": {
   "codemirror_mode": {
    "name": "ipython",
    "version": 3
   },
   "file_extension": ".py",
   "mimetype": "text/x-python",
   "name": "python",
   "nbconvert_exporter": "python",
   "pygments_lexer": "ipython3",
   "version": "3.11.5"
  }
 },
 "nbformat": 4,
 "nbformat_minor": 5
}
