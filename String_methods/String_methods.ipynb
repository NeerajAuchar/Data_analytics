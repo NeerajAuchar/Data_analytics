{
 "cells": [
  {
   "cell_type": "code",
   "execution_count": 1,
   "id": "eeb49c62",
   "metadata": {},
   "outputs": [
    {
     "data": {
      "text/plain": [
       "'Neeraj Vijay Auchar'"
      ]
     },
     "execution_count": 1,
     "metadata": {},
     "output_type": "execute_result"
    }
   ],
   "source": [
    "s = 'Neeraj Vijay Auchar'\n",
    "s"
   ]
  },
  {
   "cell_type": "code",
   "execution_count": 4,
   "id": "0d9a5047",
   "metadata": {},
   "outputs": [
    {
     "data": {
      "text/plain": [
       "'Raj Auchar'"
      ]
     },
     "execution_count": 4,
     "metadata": {},
     "output_type": "execute_result"
    }
   ],
   "source": [
    "s1 = s.replace('Neeraj', 'Raj')\n",
    "s1"
   ]
  },
  {
   "cell_type": "code",
   "execution_count": 6,
   "id": "7769e465",
   "metadata": {},
   "outputs": [
    {
     "data": {
      "text/plain": [
       "False"
      ]
     },
     "execution_count": 6,
     "metadata": {},
     "output_type": "execute_result"
    }
   ],
   "source": [
    "s1.startswith('raj')"
   ]
  },
  {
   "cell_type": "code",
   "execution_count": 11,
   "id": "2f0c0b32",
   "metadata": {},
   "outputs": [
    {
     "data": {
      "text/plain": [
       "True"
      ]
     },
     "execution_count": 11,
     "metadata": {},
     "output_type": "execute_result"
    }
   ],
   "source": [
    "s1.endswith('char')"
   ]
  },
  {
   "cell_type": "code",
   "execution_count": 15,
   "id": "0cd7d33a",
   "metadata": {},
   "outputs": [
    {
     "data": {
      "text/plain": [
       "['Neeraj', 'Vijay', 'Auchar']"
      ]
     },
     "execution_count": 15,
     "metadata": {},
     "output_type": "execute_result"
    }
   ],
   "source": [
    "s.split(' ')"
   ]
  },
  {
   "cell_type": "code",
   "execution_count": 5,
   "id": "5fb2ce44",
   "metadata": {},
   "outputs": [],
   "source": [
    "s2 = 'Aissms Ioit'"
   ]
  },
  {
   "cell_type": "code",
   "execution_count": 6,
   "id": "c99ef263",
   "metadata": {},
   "outputs": [
    {
     "data": {
      "text/plain": [
       "'AISSMS IOIT'"
      ]
     },
     "execution_count": 6,
     "metadata": {},
     "output_type": "execute_result"
    }
   ],
   "source": [
    "s2.upper()"
   ]
  },
  {
   "cell_type": "code",
   "execution_count": 7,
   "id": "e2e95cb2",
   "metadata": {},
   "outputs": [
    {
     "data": {
      "text/plain": [
       "'aissms ioit'"
      ]
     },
     "execution_count": 7,
     "metadata": {},
     "output_type": "execute_result"
    }
   ],
   "source": [
    "s2.lower()"
   ]
  },
  {
   "cell_type": "code",
   "execution_count": 8,
   "id": "5977a611",
   "metadata": {},
   "outputs": [
    {
     "data": {
      "text/plain": [
       "'Aissms ioit'"
      ]
     },
     "execution_count": 8,
     "metadata": {},
     "output_type": "execute_result"
    }
   ],
   "source": [
    "s2.capitalize()"
   ]
  },
  {
   "cell_type": "code",
   "execution_count": 9,
   "id": "2938c09a",
   "metadata": {},
   "outputs": [
    {
     "data": {
      "text/plain": [
       "'Aissms Ioit'"
      ]
     },
     "execution_count": 9,
     "metadata": {},
     "output_type": "execute_result"
    }
   ],
   "source": [
    "s2.title()"
   ]
  },
  {
   "cell_type": "code",
   "execution_count": 10,
   "id": "0e2125f5",
   "metadata": {},
   "outputs": [
    {
     "data": {
      "text/plain": [
       "True"
      ]
     },
     "execution_count": 10,
     "metadata": {},
     "output_type": "execute_result"
    }
   ],
   "source": [
    "s2 == s2.title()"
   ]
  },
  {
   "cell_type": "code",
   "execution_count": 12,
   "id": "4ea36567",
   "metadata": {},
   "outputs": [
    {
     "data": {
      "text/plain": [
       "'Neeraj Auchar'"
      ]
     },
     "execution_count": 12,
     "metadata": {},
     "output_type": "execute_result"
    }
   ],
   "source": [
    "'neeraj auchar'.title()"
   ]
  },
  {
   "cell_type": "code",
   "execution_count": 15,
   "id": "d354702f",
   "metadata": {},
   "outputs": [],
   "source": [
    "s4 = '   final year report   '"
   ]
  },
  {
   "cell_type": "code",
   "execution_count": 16,
   "id": "2171eac6",
   "metadata": {},
   "outputs": [
    {
     "data": {
      "text/plain": [
       "'final year report'"
      ]
     },
     "execution_count": 16,
     "metadata": {},
     "output_type": "execute_result"
    }
   ],
   "source": [
    "s4.strip()"
   ]
  },
  {
   "cell_type": "code",
   "execution_count": 17,
   "id": "4976e79a",
   "metadata": {},
   "outputs": [
    {
     "data": {
      "text/plain": [
       "'final year report'"
      ]
     },
     "execution_count": 17,
     "metadata": {},
     "output_type": "execute_result"
    }
   ],
   "source": [
    "s4.strip(' ')"
   ]
  },
  {
   "cell_type": "code",
   "execution_count": 18,
   "id": "e5046506",
   "metadata": {},
   "outputs": [
    {
     "data": {
      "text/plain": [
       "'inal year repor'"
      ]
     },
     "execution_count": 18,
     "metadata": {},
     "output_type": "execute_result"
    }
   ],
   "source": [
    "s4.strip(' ft')"
   ]
  },
  {
   "cell_type": "code",
   "execution_count": 19,
   "id": "6636bce1",
   "metadata": {},
   "outputs": [
    {
     "data": {
      "text/plain": [
       "'   final year report   '"
      ]
     },
     "execution_count": 19,
     "metadata": {},
     "output_type": "execute_result"
    }
   ],
   "source": [
    "s4.strip('ft')"
   ]
  },
  {
   "cell_type": "code",
   "execution_count": 20,
   "id": "03e86b56",
   "metadata": {},
   "outputs": [
    {
     "data": {
      "text/plain": [
       "'   final year report'"
      ]
     },
     "execution_count": 20,
     "metadata": {},
     "output_type": "execute_result"
    }
   ],
   "source": [
    "s4.rstrip()"
   ]
  },
  {
   "cell_type": "markdown",
   "id": "0cd56c43",
   "metadata": {},
   "source": [
    "s4.lstrip()"
   ]
  },
  {
   "cell_type": "code",
   "execution_count": 21,
   "id": "4a7fe5e6",
   "metadata": {},
   "outputs": [
    {
     "data": {
      "text/plain": [
       "'final year report   '"
      ]
     },
     "execution_count": 21,
     "metadata": {},
     "output_type": "execute_result"
    }
   ],
   "source": [
    "s4.lstrip()"
   ]
  },
  {
   "cell_type": "code",
   "execution_count": 22,
   "id": "6278f958",
   "metadata": {},
   "outputs": [],
   "source": [
    "s5 = '%&* neeraj auchar !@'"
   ]
  },
  {
   "cell_type": "code",
   "execution_count": 25,
   "id": "cca22bef",
   "metadata": {},
   "outputs": [
    {
     "data": {
      "text/plain": [
       "'neeraj auchar'"
      ]
     },
     "execution_count": 25,
     "metadata": {},
     "output_type": "execute_result"
    }
   ],
   "source": [
    "s5.strip(' !@$%^&*()')"
   ]
  },
  {
   "cell_type": "code",
   "execution_count": null,
   "id": "d7462f5f",
   "metadata": {},
   "outputs": [],
   "source": []
  }
 ],
 "metadata": {
  "kernelspec": {
   "display_name": "Python 3 (ipykernel)",
   "language": "python",
   "name": "python3"
  },
  "language_info": {
   "codemirror_mode": {
    "name": "ipython",
    "version": 3
   },
   "file_extension": ".py",
   "mimetype": "text/x-python",
   "name": "python",
   "nbconvert_exporter": "python",
   "pygments_lexer": "ipython3",
   "version": "3.11.5"
  }
 },
 "nbformat": 4,
 "nbformat_minor": 5
}
