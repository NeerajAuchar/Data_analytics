{
 "cells": [
  {
   "cell_type": "code",
   "execution_count": 3,
   "id": "621c2e18",
   "metadata": {},
   "outputs": [],
   "source": [
    "def sayHello():\n",
    "    print(\"Hello World\")"
   ]
  },
  {
   "cell_type": "code",
   "execution_count": 5,
   "id": "a6604b83",
   "metadata": {},
   "outputs": [
    {
     "name": "stdout",
     "output_type": "stream",
     "text": [
      "Hello World\n"
     ]
    }
   ],
   "source": [
    "sayHello()"
   ]
  },
  {
   "cell_type": "code",
   "execution_count": 8,
   "id": "19c0c360",
   "metadata": {},
   "outputs": [],
   "source": [
    "def calculus(a,b):\n",
    "    return (a+b)*(a-b)"
   ]
  },
  {
   "cell_type": "code",
   "execution_count": 10,
   "id": "fd42b0cb",
   "metadata": {},
   "outputs": [
    {
     "data": {
      "text/plain": [
       "-1925"
      ]
     },
     "execution_count": 10,
     "metadata": {},
     "output_type": "execute_result"
    }
   ],
   "source": [
    "calculus(10,45)"
   ]
  },
  {
   "cell_type": "code",
   "execution_count": 12,
   "id": "c5f6f45b",
   "metadata": {},
   "outputs": [],
   "source": [
    "def chash(m):\n",
    "    if m >=100 :\n",
    "        m += 10\n",
    "        return m\n",
    "    else:\n",
    "        print(\"save more money\")"
   ]
  },
  {
   "cell_type": "code",
   "execution_count": 14,
   "id": "ce5a392f",
   "metadata": {},
   "outputs": [
    {
     "name": "stdout",
     "output_type": "stream",
     "text": [
      "save more money\n"
     ]
    }
   ],
   "source": [
    "chash(99)"
   ]
  },
  {
   "cell_type": "code",
   "execution_count": null,
   "id": "d9a373e0",
   "metadata": {},
   "outputs": [],
   "source": []
  },
  {
   "cell_type": "code",
   "execution_count": null,
   "id": "52d2798a",
   "metadata": {},
   "outputs": [],
   "source": []
  }
 ],
 "metadata": {
  "kernelspec": {
   "display_name": "Python 3 (ipykernel)",
   "language": "python",
   "name": "python3"
  },
  "language_info": {
   "codemirror_mode": {
    "name": "ipython",
    "version": 3
   },
   "file_extension": ".py",
   "mimetype": "text/x-python",
   "name": "python",
   "nbconvert_exporter": "python",
   "pygments_lexer": "ipython3",
   "version": "3.11.5"
  }
 },
 "nbformat": 4,
 "nbformat_minor": 5
}
