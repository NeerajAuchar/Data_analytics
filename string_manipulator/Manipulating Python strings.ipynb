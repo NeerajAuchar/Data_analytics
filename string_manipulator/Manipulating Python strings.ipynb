{
 "cells": [
  {
   "cell_type": "code",
   "execution_count": 1,
   "id": "1c16da54",
   "metadata": {},
   "outputs": [
    {
     "name": "stdout",
     "output_type": "stream",
     "text": [
      "This product is from \n",
      "Category \"A\" .\n"
     ]
    }
   ],
   "source": [
    "print('This product is from \\nCategory \"A\" .')"
   ]
  },
  {
   "cell_type": "code",
   "execution_count": 2,
   "id": "1d0de4e7",
   "metadata": {},
   "outputs": [
    {
     "name": "stdout",
     "output_type": "stream",
     "text": [
      "Hello my name is neeraj \t I\"m from Pune\n"
     ]
    }
   ],
   "source": [
    "print('Hello my name is neeraj \\t I\"m from Pune')"
   ]
  },
  {
   "cell_type": "code",
   "execution_count": 7,
   "id": "b80e20b3",
   "metadata": {},
   "outputs": [
    {
     "name": "stdout",
     "output_type": "stream",
     "text": [
      "This product is from Category \"A\" . \r",
      "0001\n"
     ]
    }
   ],
   "source": [
    "print('This product is from Category \"A\" . \\r0001')"
   ]
  },
  {
   "cell_type": "code",
   "execution_count": 12,
   "id": "5e70a2f3",
   "metadata": {},
   "outputs": [
    {
     "name": "stdout",
     "output_type": "stream",
     "text": [
      "The \"Fast Cars\" shop are expecting to sell 1000 units of the new Audi model next year. The \"Elegant Cars\" shop are expecting to sell 1200 units of the new Ford model next year.\n"
     ]
    }
   ],
   "source": [
    "car_shop = ['Fast Cars', 'Elegant Cars']\n",
    "car_brand = ['Audi', 'Ford']\n",
    "number_of_cars_for_sale = [1000, 1200]\n",
    "price_of_model = 37500.50\n",
    "print (\"The \\\"%s\\\" shop are expecting to sell %d units of the new %s model next year.\" % (car_shop[0], number_of_cars_for_sale[0], car_brand[0]) + \n",
    "       \" The \\\"%s\\\" shop are expecting to sell %d units of the new %s model next year.\" % (car_shop[1], number_of_cars_for_sale[1], car_brand[1]))"
   ]
  },
  {
   "cell_type": "code",
   "execution_count": null,
   "id": "79ea95ee",
   "metadata": {},
   "outputs": [],
   "source": []
  }
 ],
 "metadata": {
  "kernelspec": {
   "display_name": "Python 3 (ipykernel)",
   "language": "python",
   "name": "python3"
  },
  "language_info": {
   "codemirror_mode": {
    "name": "ipython",
    "version": 3
   },
   "file_extension": ".py",
   "mimetype": "text/x-python",
   "name": "python",
   "nbconvert_exporter": "python",
   "pygments_lexer": "ipython3",
   "version": "3.11.5"
  }
 },
 "nbformat": 4,
 "nbformat_minor": 5
}
