{
 "cells": [
  {
   "cell_type": "code",
   "execution_count": 1,
   "id": "a9966d59",
   "metadata": {},
   "outputs": [],
   "source": [
    "import numpy as np"
   ]
  },
  {
   "cell_type": "markdown",
   "id": "d1a16c68",
   "metadata": {},
   "source": [
    "# np.mean()"
   ]
  },
  {
   "cell_type": "code",
   "execution_count": 2,
   "id": "6a161ad7",
   "metadata": {},
   "outputs": [
    {
     "data": {
      "text/plain": [
       "array([[1, 0, 0, 3, 1],\n",
       "       [3, 6, 6, 2, 9],\n",
       "       [4, 5, 3, 8, 0]])"
      ]
     },
     "execution_count": 2,
     "metadata": {},
     "output_type": "execute_result"
    }
   ],
   "source": [
    "mat_A = np.array([[1, 0, 0, 3, 1], [3, 6, 6, 2, 9], [4, 5, 3, 8, 0]])\n",
    "mat_A"
   ]
  },
  {
   "cell_type": "code",
   "execution_count": 3,
   "id": "773448a1",
   "metadata": {},
   "outputs": [
    {
     "data": {
      "text/plain": [
       "3.4"
      ]
     },
     "execution_count": 3,
     "metadata": {},
     "output_type": "execute_result"
    }
   ],
   "source": [
    "np.mean(mat_A) #mean of the while data "
   ]
  },
  {
   "cell_type": "code",
   "execution_count": 4,
   "id": "243c40a5",
   "metadata": {},
   "outputs": [
    {
     "data": {
      "text/plain": [
       "1.0"
      ]
     },
     "execution_count": 4,
     "metadata": {},
     "output_type": "execute_result"
    }
   ],
   "source": [
    "np.mean(mat_A[0]) # for first row of the matrix"
   ]
  },
  {
   "cell_type": "code",
   "execution_count": 5,
   "id": "54996bd6",
   "metadata": {},
   "outputs": [
    {
     "data": {
      "text/plain": [
       "2.6666666666666665"
      ]
     },
     "execution_count": 5,
     "metadata": {},
     "output_type": "execute_result"
    }
   ],
   "source": [
    "np.mean(mat_A[:, 0]) # for first column of the matrix"
   ]
  },
  {
   "cell_type": "code",
   "execution_count": 6,
   "id": "a535c8a2",
   "metadata": {},
   "outputs": [
    {
     "data": {
      "text/plain": [
       "array([2.66666667, 3.66666667, 3.        , 4.33333333, 3.33333333])"
      ]
     },
     "execution_count": 6,
     "metadata": {},
     "output_type": "execute_result"
    }
   ],
   "source": [
    "np.mean(mat_A, axis=0) # the axis , argument helps us to calculate the mean of single column "
   ]
  },
  {
   "cell_type": "code",
   "execution_count": 7,
   "id": "9ee47e95",
   "metadata": {},
   "outputs": [
    {
     "data": {
      "text/plain": [
       "array([1. , 5.2, 4. ])"
      ]
     },
     "execution_count": 7,
     "metadata": {},
     "output_type": "execute_result"
    }
   ],
   "source": [
    "np.mean(mat_A, axis=1) # changing the value of axis from zero to one will calculate the mean for single row and return it in array"
   ]
  },
  {
   "cell_type": "markdown",
   "id": "375f859b",
   "metadata": {},
   "source": [
    "# Min and Max Values "
   ]
  },
  {
   "cell_type": "code",
   "execution_count": 11,
   "id": "75b1410f",
   "metadata": {},
   "outputs": [
    {
     "data": {
      "text/plain": [
       "array([[ 2,  5,  6,  1,  3],\n",
       "       [ 3,  8,  2,  0, -1],\n",
       "       [ 9,  2,  1,  8,  4]])"
      ]
     },
     "execution_count": 11,
     "metadata": {},
     "output_type": "execute_result"
    }
   ],
   "source": [
    "mat_B = np.array([[2, 5, 6, 1, 3], [3, 8, 2, 0, -1], [9, 2, 1, 8, 4]])\n",
    "mat_B"
   ]
  },
  {
   "cell_type": "code",
   "execution_count": 12,
   "id": "65f300c5",
   "metadata": {},
   "outputs": [
    {
     "data": {
      "text/plain": [
       "-1"
      ]
     },
     "execution_count": 12,
     "metadata": {},
     "output_type": "execute_result"
    }
   ],
   "source": [
    "np.min(mat_B)"
   ]
  },
  {
   "cell_type": "code",
   "execution_count": 13,
   "id": "86b6ea39",
   "metadata": {},
   "outputs": [
    {
     "data": {
      "text/plain": [
       "array([[1, 0, 0, 3, 1],\n",
       "       [3, 6, 6, 2, 9],\n",
       "       [4, 5, 3, 8, 0]])"
      ]
     },
     "execution_count": 13,
     "metadata": {},
     "output_type": "execute_result"
    }
   ],
   "source": [
    "mat_A"
   ]
  },
  {
   "cell_type": "markdown",
   "id": "fc02fa63",
   "metadata": {},
   "source": [
    "# Statistical Order Functions"
   ]
  },
  {
   "cell_type": "code",
   "execution_count": 14,
   "id": "0119beee",
   "metadata": {},
   "outputs": [
    {
     "data": {
      "text/plain": [
       "9"
      ]
     },
     "execution_count": 14,
     "metadata": {},
     "output_type": "execute_result"
    }
   ],
   "source": [
    "np.ptp(mat_A)"
   ]
  },
  {
   "cell_type": "code",
   "execution_count": 15,
   "id": "ba487deb",
   "metadata": {},
   "outputs": [
    {
     "data": {
      "text/plain": [
       "9"
      ]
     },
     "execution_count": 15,
     "metadata": {},
     "output_type": "execute_result"
    }
   ],
   "source": [
    "np.max(mat_A)"
   ]
  },
  {
   "cell_type": "code",
   "execution_count": 16,
   "id": "84ad4785",
   "metadata": {},
   "outputs": [
    {
     "data": {
      "text/plain": [
       "array([3, 6, 6, 6, 9])"
      ]
     },
     "execution_count": 16,
     "metadata": {},
     "output_type": "execute_result"
    }
   ],
   "source": [
    "np.ptp(mat_A, axis=0)"
   ]
  },
  {
   "cell_type": "code",
   "execution_count": 17,
   "id": "a556d59c",
   "metadata": {},
   "outputs": [
    {
     "data": {
      "text/plain": [
       "array([5, 9, 8])"
      ]
     },
     "execution_count": 17,
     "metadata": {},
     "output_type": "execute_result"
    }
   ],
   "source": [
    "np.ptp(mat_B, axis=1)"
   ]
  },
  {
   "cell_type": "code",
   "execution_count": 20,
   "id": "4d2a1d4b",
   "metadata": {},
   "outputs": [
    {
     "data": {
      "text/plain": [
       "5"
      ]
     },
     "execution_count": 20,
     "metadata": {},
     "output_type": "execute_result"
    }
   ],
   "source": [
    "np.quantile(mat_A, 0.70, interpolation=\"nearest\")"
   ]
  },
  {
   "cell_type": "markdown",
   "id": "158442a9",
   "metadata": {},
   "source": [
    "# Average and Variance in Numpy"
   ]
  },
  {
   "cell_type": "code",
   "execution_count": 23,
   "id": "de60836b",
   "metadata": {},
   "outputs": [
    {
     "data": {
      "text/plain": [
       "3.0"
      ]
     },
     "execution_count": 23,
     "metadata": {},
     "output_type": "execute_result"
    }
   ],
   "source": [
    "np.median(mat_A, )"
   ]
  },
  {
   "cell_type": "code",
   "execution_count": 27,
   "id": "f3c0c6e0",
   "metadata": {},
   "outputs": [
    {
     "data": {
      "text/plain": [
       "array([0, 0, 0, 1, 1, 2, 3, 3, 3, 4, 5, 6, 6, 8, 9])"
      ]
     },
     "execution_count": 27,
     "metadata": {},
     "output_type": "execute_result"
    }
   ],
   "source": [
    "np.sort(mat_A, axis=None)"
   ]
  },
  {
   "cell_type": "code",
   "execution_count": 28,
   "id": "a091ac76",
   "metadata": {},
   "outputs": [
    {
     "data": {
      "text/plain": [
       "3.4"
      ]
     },
     "execution_count": 28,
     "metadata": {},
     "output_type": "execute_result"
    }
   ],
   "source": [
    "np.mean(mat_A)"
   ]
  },
  {
   "cell_type": "code",
   "execution_count": 29,
   "id": "66f08293",
   "metadata": {},
   "outputs": [
    {
     "data": {
      "text/plain": [
       "3.4"
      ]
     },
     "execution_count": 29,
     "metadata": {},
     "output_type": "execute_result"
    }
   ],
   "source": [
    "np.average(mat_A)"
   ]
  },
  {
   "cell_type": "code",
   "execution_count": 30,
   "id": "5240ca70",
   "metadata": {},
   "outputs": [
    {
     "data": {
      "text/plain": [
       "array([[0.75915734, 0.7662218 , 0.6291028 , 0.20336599, 0.66501486],\n",
       "       [0.06559111, 0.71326309, 0.10812106, 0.87969046, 0.49405844],\n",
       "       [0.82472673, 0.45652944, 0.07367232, 0.69628564, 0.36690736]])"
      ]
     },
     "execution_count": 30,
     "metadata": {},
     "output_type": "execute_result"
    }
   ],
   "source": [
    "from numpy.random import Generator as gen\n",
    "from numpy.random import PCG64 as pcg\n",
    "\n",
    "array_rg = gen(pcg(365))\n",
    "array_weight = array_rg.random(size=(3, 5))\n",
    "array_weight"
   ]
  },
  {
   "cell_type": "code",
   "execution_count": 31,
   "id": "9991571a",
   "metadata": {},
   "outputs": [
    {
     "data": {
      "text/plain": [
       "3.2120290871899306"
      ]
     },
     "execution_count": 31,
     "metadata": {},
     "output_type": "execute_result"
    }
   ],
   "source": [
    "np.average(mat_A, weights=array_weight)"
   ]
  },
  {
   "cell_type": "code",
   "execution_count": 32,
   "id": "ce9cd910",
   "metadata": {},
   "outputs": [
    {
     "data": {
      "text/plain": [
       "7.84"
      ]
     },
     "execution_count": 32,
     "metadata": {},
     "output_type": "execute_result"
    }
   ],
   "source": [
    "np.var(mat_A)"
   ]
  },
  {
   "cell_type": "code",
   "execution_count": 33,
   "id": "577276a0",
   "metadata": {},
   "outputs": [
    {
     "data": {
      "text/plain": [
       "2.8"
      ]
     },
     "execution_count": 33,
     "metadata": {},
     "output_type": "execute_result"
    }
   ],
   "source": [
    "np.std(mat_A)"
   ]
  },
  {
   "cell_type": "code",
   "execution_count": 34,
   "id": "c46312f5",
   "metadata": {},
   "outputs": [
    {
     "data": {
      "text/plain": [
       "7.839999999999999"
      ]
     },
     "execution_count": 34,
     "metadata": {},
     "output_type": "execute_result"
    }
   ],
   "source": [
    "2.8**2"
   ]
  },
  {
   "cell_type": "code",
   "execution_count": null,
   "id": "203f3700",
   "metadata": {},
   "outputs": [],
   "source": []
  }
 ],
 "metadata": {
  "kernelspec": {
   "display_name": "Python 3 (ipykernel)",
   "language": "python",
   "name": "python3"
  },
  "language_info": {
   "codemirror_mode": {
    "name": "ipython",
    "version": 3
   },
   "file_extension": ".py",
   "mimetype": "text/x-python",
   "name": "python",
   "nbconvert_exporter": "python",
   "pygments_lexer": "ipython3",
   "version": "3.11.5"
  }
 },
 "nbformat": 4,
 "nbformat_minor": 5
}
