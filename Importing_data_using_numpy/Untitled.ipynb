{
 "cells": [
  {
   "cell_type": "code",
   "execution_count": 1,
   "id": "8906173a",
   "metadata": {},
   "outputs": [],
   "source": [
    "import numpy as np"
   ]
  },
  {
   "cell_type": "code",
   "execution_count": 2,
   "id": "8fccb15e",
   "metadata": {},
   "outputs": [
    {
     "data": {
      "text/plain": [
       "array([[ 1000.,    40.,   365.,  2160.,  3280., 15340.],\n",
       "       [ 2000.,    40.,   365.,  3041.,  4241., 15321.],\n",
       "       [ 2000.,    50.,   365.,  3470.,  4820., 13720.],\n",
       "       ...,\n",
       "       [   nan,    40.,   365.,  4201.,  5001., 16600.],\n",
       "       [ 1000.,    40.,   365.,  2080.,  3320., 15600.],\n",
       "       [ 2000.,    40.,   365.,  4601.,  4601., 16600.]])"
      ]
     },
     "execution_count": 2,
     "metadata": {},
     "output_type": "execute_result"
    }
   ],
   "source": [
    "lending_data = np.genfromtxt('Lending-Company-Numeric-Data-NAN.csv' , delimiter=';', skip_header=2) #here skip_header will skip first 2 rows of the data\n",
    "lending_data"
   ]
  },
  {
   "cell_type": "code",
   "execution_count": 5,
   "id": "244f44b2",
   "metadata": {},
   "outputs": [
    {
     "data": {
      "text/plain": [
       "array([[  40.,  365., 3121.],\n",
       "       [  40.,  365., 3061.],\n",
       "       [  40.,  365., 2160.],\n",
       "       ...,\n",
       "       [  40.,  365., 4201.],\n",
       "       [  40.,  365., 2080.],\n",
       "       [  40.,  365., 4601.]])"
      ]
     },
     "execution_count": 5,
     "metadata": {},
     "output_type": "execute_result"
    }
   ],
   "source": [
    "lending_data_footer = np.genfromtxt('Lending-Company-Numeric-Data-NAN.csv' , delimiter=';', skip_footer=2) #here skip_footer will skip last 2 rows of the data\n",
    "lending_data_footer"
   ]
  },
  {
   "cell_type": "code",
   "execution_count": 14,
   "id": "ce486c57",
   "metadata": {},
   "outputs": [
    {
     "data": {
      "text/plain": [
       "array([[ 2000.,    40.,  4241., 13621.],\n",
       "       [ 2000.,    40.,  4171., 15041.],\n",
       "       [ 1000.,    40.,  3280., 15340.],\n",
       "       ...,\n",
       "       [   nan,    40.,  5001., 16600.],\n",
       "       [ 1000.,    40.,  3320., 15600.],\n",
       "       [ 2000.,    40.,  4601., 16600.]])"
      ]
     },
     "execution_count": 14,
     "metadata": {},
     "output_type": "execute_result"
    }
   ],
   "source": [
    "lending_data_col = np.genfromtxt('Lending-Company-Numeric-Data-NAN.csv' , delimiter=';', usecols=(0, 1, 4,5) ) #here skip_header will skip first 2 rows of the data\n",
    "lending_data_col"
   ]
  },
  {
   "cell_type": "code",
   "execution_count": null,
   "id": "a5ec1e70",
   "metadata": {},
   "outputs": [],
   "source": []
  }
 ],
 "metadata": {
  "kernelspec": {
   "display_name": "Python 3 (ipykernel)",
   "language": "python",
   "name": "python3"
  },
  "language_info": {
   "codemirror_mode": {
    "name": "ipython",
    "version": 3
   },
   "file_extension": ".py",
   "mimetype": "text/x-python",
   "name": "python",
   "nbconvert_exporter": "python",
   "pygments_lexer": "ipython3",
   "version": "3.11.5"
  }
 },
 "nbformat": 4,
 "nbformat_minor": 5
}
