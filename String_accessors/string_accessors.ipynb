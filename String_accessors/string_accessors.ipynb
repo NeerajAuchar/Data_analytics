{
 "cells": [
  {
   "cell_type": "code",
   "execution_count": 1,
   "id": "8958a0f8",
   "metadata": {},
   "outputs": [],
   "source": [
    "import pandas as pd"
   ]
  },
  {
   "cell_type": "code",
   "execution_count": 2,
   "id": "07a9211f",
   "metadata": {},
   "outputs": [],
   "source": [
    "op_kpis = pd.Series([\"employee satisfaction rating\", \"employee churn rate\"])"
   ]
  },
  {
   "cell_type": "code",
   "execution_count": 3,
   "id": "d1cabcaa",
   "metadata": {},
   "outputs": [
    {
     "data": {
      "text/plain": [
       "0    employee satisfaction rating\n",
       "1             employee churn rate\n",
       "dtype: object"
      ]
     },
     "execution_count": 3,
     "metadata": {},
     "output_type": "execute_result"
    }
   ],
   "source": [
    "op_kpis"
   ]
  },
  {
   "cell_type": "code",
   "execution_count": 4,
   "id": "103e0c98",
   "metadata": {},
   "outputs": [
    {
     "data": {
      "text/plain": [
       "' satisfaction rating'"
      ]
     },
     "execution_count": 4,
     "metadata": {},
     "output_type": "execute_result"
    }
   ],
   "source": [
    "op_kpis[0].lstrip('employee')"
   ]
  },
  {
   "cell_type": "code",
   "execution_count": 5,
   "id": "f6110db4",
   "metadata": {},
   "outputs": [
    {
     "data": {
      "text/plain": [
       "' churn rate'"
      ]
     },
     "execution_count": 5,
     "metadata": {},
     "output_type": "execute_result"
    }
   ],
   "source": [
    "op_kpis[1].lstrip('employee')"
   ]
  },
  {
   "cell_type": "code",
   "execution_count": 6,
   "id": "f6c9abc5",
   "metadata": {},
   "outputs": [
    {
     "data": {
      "text/plain": [
       "0     satisfaction rating\n",
       "1              churn rate\n",
       "dtype: object"
      ]
     },
     "execution_count": 6,
     "metadata": {},
     "output_type": "execute_result"
    }
   ],
   "source": [
    "pd.Series([op_kpis[0].lstrip('employee'), op_kpis[1].lstrip('employee')])"
   ]
  },
  {
   "cell_type": "code",
   "execution_count": 7,
   "id": "99f9ce79",
   "metadata": {},
   "outputs": [
    {
     "data": {
      "text/plain": [
       "<pandas.core.strings.accessor.StringMethods at 0x14f543050>"
      ]
     },
     "execution_count": 7,
     "metadata": {},
     "output_type": "execute_result"
    }
   ],
   "source": [
    "op_kpis.str"
   ]
  },
  {
   "cell_type": "code",
   "execution_count": 8,
   "id": "9cb72340",
   "metadata": {},
   "outputs": [
    {
     "data": {
      "text/plain": [
       "0    m\n",
       "1    m\n",
       "dtype: object"
      ]
     },
     "execution_count": 8,
     "metadata": {},
     "output_type": "execute_result"
    }
   ],
   "source": [
    "op_kpis.str[1]"
   ]
  },
  {
   "cell_type": "code",
   "execution_count": 9,
   "id": "0147fc5a",
   "metadata": {},
   "outputs": [
    {
     "data": {
      "text/plain": [
       "0    Text_data\n",
       "1           34\n",
       "dtype: object"
      ]
     },
     "execution_count": 9,
     "metadata": {},
     "output_type": "execute_result"
    }
   ],
   "source": [
    "text_series = pd.Series(['Text_data', 34])\n",
    "text_series"
   ]
  },
  {
   "cell_type": "code",
   "execution_count": 10,
   "id": "e581cf07",
   "metadata": {},
   "outputs": [
    {
     "data": {
      "text/plain": [
       "0    data\n",
       "1     NaN\n",
       "dtype: object"
      ]
     },
     "execution_count": 10,
     "metadata": {},
     "output_type": "execute_result"
    }
   ],
   "source": [
    "text_series.str.lstrip('Text_')"
   ]
  },
  {
   "cell_type": "code",
   "execution_count": 11,
   "id": "eab105b0",
   "metadata": {},
   "outputs": [],
   "source": [
    "test_series = pd.Series(['text_data', '34'])"
   ]
  },
  {
   "cell_type": "code",
   "execution_count": 12,
   "id": "e853a872",
   "metadata": {},
   "outputs": [
    {
     "data": {
      "text/plain": [
       "0    data\n",
       "1      34\n",
       "dtype: object"
      ]
     },
     "execution_count": 12,
     "metadata": {},
     "output_type": "execute_result"
    }
   ],
   "source": [
    "test_series.str.lstrip('text_')"
   ]
  },
  {
   "cell_type": "code",
   "execution_count": 13,
   "id": "c6e3f66a",
   "metadata": {},
   "outputs": [
    {
     "data": {
      "text/plain": [
       "0     $12334\n",
       "1      $9876\n",
       "2     $89910\n",
       "3    $563561\n",
       "dtype: object"
      ]
     },
     "execution_count": 13,
     "metadata": {},
     "output_type": "execute_result"
    }
   ],
   "source": [
    "hprices = pd.Series(['$12334', '$9876', '$89910', '$563561'])\n",
    "hprices"
   ]
  },
  {
   "cell_type": "code",
   "execution_count": 14,
   "id": "a373b0cd",
   "metadata": {},
   "outputs": [
    {
     "data": {
      "text/plain": [
       "0    True\n",
       "1    True\n",
       "2    True\n",
       "3    True\n",
       "dtype: bool"
      ]
     },
     "execution_count": 14,
     "metadata": {},
     "output_type": "execute_result"
    }
   ],
   "source": [
    "hprices.str.contains('$')"
   ]
  },
  {
   "cell_type": "code",
   "execution_count": 23,
   "id": "cd324d51",
   "metadata": {},
   "outputs": [
    {
     "name": "stdout",
     "output_type": "stream",
     "text": [
      "0       Peterson\n",
      "1    Fitzpatrick\n",
      "2           Cruz\n",
      "dtype: object\n"
     ]
    }
   ],
   "source": [
    "import pandas as pd;\n",
    "names = pd.Series([\"Martin Peterson\", \"John Fitzpatrick\", \"Kate Cruz\"])\n",
    "last_names = names.str.split().str[1]\n",
    "print(last_names)"
   ]
  },
  {
   "cell_type": "code",
   "execution_count": null,
   "id": "201eac6a",
   "metadata": {},
   "outputs": [],
   "source": []
  }
 ],
 "metadata": {
  "kernelspec": {
   "display_name": "Python 3 (ipykernel)",
   "language": "python",
   "name": "python3"
  },
  "language_info": {
   "codemirror_mode": {
    "name": "ipython",
    "version": 3
   },
   "file_extension": ".py",
   "mimetype": "text/x-python",
   "name": "python",
   "nbconvert_exporter": "python",
   "pygments_lexer": "ipython3",
   "version": "3.11.5"
  }
 },
 "nbformat": 4,
 "nbformat_minor": 5
}
