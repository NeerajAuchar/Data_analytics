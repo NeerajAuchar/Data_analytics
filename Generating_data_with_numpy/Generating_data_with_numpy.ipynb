{
 "cells": [
  {
   "cell_type": "code",
   "execution_count": 1,
   "id": "d56b2dcb",
   "metadata": {},
   "outputs": [],
   "source": [
    "import numpy as np"
   ]
  },
  {
   "cell_type": "code",
   "execution_count": 2,
   "id": "292ec907",
   "metadata": {},
   "outputs": [],
   "source": [
    "array_empty = np.empty(shape = (2, 3))"
   ]
  },
  {
   "cell_type": "code",
   "execution_count": 3,
   "id": "b12aa4c5",
   "metadata": {},
   "outputs": [
    {
     "data": {
      "text/plain": [
       "array([[0., 0., 0.],\n",
       "       [0., 0., 0.]])"
      ]
     },
     "execution_count": 3,
     "metadata": {},
     "output_type": "execute_result"
    }
   ],
   "source": [
    "array_empty"
   ]
  },
  {
   "cell_type": "code",
   "execution_count": 4,
   "id": "51e5ce6f",
   "metadata": {},
   "outputs": [
    {
     "data": {
      "text/plain": [
       "array([[0., 0., 0.],\n",
       "       [0., 0., 0.]])"
      ]
     },
     "execution_count": 4,
     "metadata": {},
     "output_type": "execute_result"
    }
   ],
   "source": [
    "arrays_0s = np.zeros(shape=(2, 3))\n",
    "arrays_0s"
   ]
  },
  {
   "cell_type": "code",
   "execution_count": 5,
   "id": "6e0be26d",
   "metadata": {},
   "outputs": [
    {
     "data": {
      "text/plain": [
       "array([[1., 1., 1.],\n",
       "       [1., 1., 1.]])"
      ]
     },
     "execution_count": 5,
     "metadata": {},
     "output_type": "execute_result"
    }
   ],
   "source": [
    "arrays_1s = np.ones(shape=(2, 3))\n",
    "arrays_1s"
   ]
  },
  {
   "cell_type": "code",
   "execution_count": 6,
   "id": "9286e663",
   "metadata": {},
   "outputs": [
    {
     "data": {
      "text/plain": [
       "array([[3, 3, 3],\n",
       "       [3, 3, 3]])"
      ]
     },
     "execution_count": 6,
     "metadata": {},
     "output_type": "execute_result"
    }
   ],
   "source": [
    "arrays_full = np.full(shape=(2, 3), fill_value=3)\n",
    "arrays_full"
   ]
  },
  {
   "cell_type": "markdown",
   "id": "475701f6",
   "metadata": {},
   "source": [
    "# like_ function"
   ]
  },
  {
   "cell_type": "code",
   "execution_count": 7,
   "id": "59e44b40",
   "metadata": {},
   "outputs": [
    {
     "data": {
      "text/plain": [
       "array([[ 1,  2,  3,  4,  5],\n",
       "       [ 6,  7,  8,  9, 10],\n",
       "       [11, 12, 13, 14, 15]])"
      ]
     },
     "execution_count": 7,
     "metadata": {},
     "output_type": "execute_result"
    }
   ],
   "source": [
    "matrixA = np.array([[1, 2, 3, 4, 5], [6, 7, 8, 9, 10], [11, 12, 13, 14, 15]])\n",
    "matrixA"
   ]
  },
  {
   "cell_type": "code",
   "execution_count": 13,
   "id": "0034afbe",
   "metadata": {},
   "outputs": [
    {
     "data": {
      "text/plain": [
       "array([[0, 0, 0, 0, 0],\n",
       "       [0, 0, 0, 0, 0],\n",
       "       [0, 0, 0, 0, 0]])"
      ]
     },
     "execution_count": 13,
     "metadata": {},
     "output_type": "execute_result"
    }
   ],
   "source": [
    "empty_arr = np.empty_like(matrixA)\n",
    "empty_arr"
   ]
  },
  {
   "cell_type": "code",
   "execution_count": 14,
   "id": "a55271e2",
   "metadata": {},
   "outputs": [
    {
     "data": {
      "text/plain": [
       "array([[0, 0, 0, 0, 0],\n",
       "       [0, 0, 0, 0, 0],\n",
       "       [0, 0, 0, 0, 0]])"
      ]
     },
     "execution_count": 14,
     "metadata": {},
     "output_type": "execute_result"
    }
   ],
   "source": [
    "arr_0s_like = np.zeros_like(matrixA)\n",
    "arr_0s_like "
   ]
  },
  {
   "cell_type": "markdown",
   "id": "afc2d244",
   "metadata": {},
   "source": [
    "# np.arange() function"
   ]
  },
  {
   "cell_type": "code",
   "execution_count": 15,
   "id": "be19e67f",
   "metadata": {},
   "outputs": [
    {
     "data": {
      "text/plain": [
       "[0,\n",
       " 1,\n",
       " 2,\n",
       " 3,\n",
       " 4,\n",
       " 5,\n",
       " 6,\n",
       " 7,\n",
       " 8,\n",
       " 9,\n",
       " 10,\n",
       " 11,\n",
       " 12,\n",
       " 13,\n",
       " 14,\n",
       " 15,\n",
       " 16,\n",
       " 17,\n",
       " 18,\n",
       " 19,\n",
       " 20,\n",
       " 21,\n",
       " 22,\n",
       " 23,\n",
       " 24,\n",
       " 25,\n",
       " 26,\n",
       " 27,\n",
       " 28,\n",
       " 29]"
      ]
     },
     "execution_count": 15,
     "metadata": {},
     "output_type": "execute_result"
    }
   ],
   "source": [
    "list(range(30))"
   ]
  },
  {
   "cell_type": "code",
   "execution_count": 21,
   "id": "af1f2b7e",
   "metadata": {},
   "outputs": [
    {
     "data": {
      "text/plain": [
       "array([ 1,  5,  9, 13, 17, 21, 25, 29])"
      ]
     },
     "execution_count": 21,
     "metadata": {},
     "output_type": "execute_result"
    }
   ],
   "source": [
    "aran = np.arange(1, 31, 4)\n",
    "aran"
   ]
  },
  {
   "cell_type": "markdown",
   "id": "ce1c3fdc",
   "metadata": {},
   "source": [
    "# Random Generator "
   ]
  },
  {
   "cell_type": "code",
   "execution_count": 23,
   "id": "2db76599",
   "metadata": {},
   "outputs": [],
   "source": [
    "from numpy.random import Generator as gen\n",
    "from numpy.random import PCG64 as pcg"
   ]
  },
  {
   "cell_type": "code",
   "execution_count": 39,
   "id": "a5b3b4c9",
   "metadata": {},
   "outputs": [
    {
     "data": {
      "text/plain": [
       "array([ 0.15539272, -0.77083612, -0.53576838, -0.19507873, -1.11294947,\n",
       "        1.15487918, -2.32623297,  1.29034127, -0.80494228, -0.43664474,\n",
       "       -0.60744584,  0.43968209, -0.86836282, -1.69128344,  0.05229368,\n",
       "        1.06060539, -0.80937725,  0.66401552,  0.65045704, -0.32673453,\n",
       "        1.33910184, -1.10619105, -0.55389931, -0.14246693,  0.89570879,\n",
       "       -0.230194  , -0.4611072 ,  0.8760837 ,  1.10294842, -0.65309651,\n",
       "        1.36270229, -0.72328918,  0.54933836,  0.33694791, -0.13676424,\n",
       "       -1.31015119,  0.70502976, -0.26644306, -1.31183972,  0.3215144 ,\n",
       "       -0.82682539, -0.91667062,  0.38333581,  1.0986422 ,  1.52760646,\n",
       "       -1.18885515, -0.72405747, -2.81887405, -0.05983384,  0.79116618,\n",
       "        1.2320946 ,  1.35565326, -1.95911705,  0.21714372, -0.78571781,\n",
       "        0.59622807, -0.31484115,  0.18397876,  1.37017007, -1.72172465,\n",
       "        0.84257404,  1.10732452,  0.82244404, -0.5565548 , -1.60423225,\n",
       "        0.62014813,  0.75398768, -0.68789844, -0.19762277,  1.24777206,\n",
       "       -0.86064025, -0.13936417, -0.13338403, -0.81396257,  0.82797815,\n",
       "        0.58212457,  0.36991301,  0.73330052, -1.32031276,  0.02709852,\n",
       "       -0.4743235 ,  0.19212838,  0.28972324,  0.54047938,  0.44730072,\n",
       "       -1.07012846, -2.28880932, -0.31977777, -0.19553181,  0.46502909,\n",
       "       -0.44456098, -0.92834178, -1.67771287,  0.32031565, -0.02715642,\n",
       "       -1.26056016, -1.27085464, -0.49199156, -1.24345352,  0.19640965,\n",
       "        1.31307566,  1.19969094,  0.35825419,  1.34961586, -0.10736734,\n",
       "        1.35099051, -0.45729598,  2.62413965,  0.12988788, -0.01336023,\n",
       "       -0.81073472,  0.23400945, -0.13812738, -0.27528761,  1.52570653,\n",
       "        0.34612293, -0.22883822, -0.4325564 ,  0.07075492, -0.72900051,\n",
       "       -1.30733368])"
      ]
     },
     "execution_count": 39,
     "metadata": {},
     "output_type": "execute_result"
    }
   ],
   "source": [
    "array_RG = gen(pcg()) \n",
    "array_RG.normal(size = 121)"
   ]
  },
  {
   "cell_type": "code",
   "execution_count": 43,
   "id": "18e67858",
   "metadata": {},
   "outputs": [
    {
     "data": {
      "text/plain": [
       "array([[84, 52, 84, 77, 45],\n",
       "       [ 9, 56,  5, 16, 33],\n",
       "       [13, 39, 22, 16, 30],\n",
       "       [68, 70, 37, 57, 31],\n",
       "       [17, 63, 61, 53, 19]])"
      ]
     },
     "execution_count": 43,
     "metadata": {},
     "output_type": "execute_result"
    }
   ],
   "source": [
    "array_RG.integers(100, size=(5,5))"
   ]
  },
  {
   "cell_type": "code",
   "execution_count": null,
   "id": "10b65490",
   "metadata": {},
   "outputs": [],
   "source": []
  }
 ],
 "metadata": {
  "kernelspec": {
   "display_name": "Python 3 (ipykernel)",
   "language": "python",
   "name": "python3"
  },
  "language_info": {
   "codemirror_mode": {
    "name": "ipython",
    "version": 3
   },
   "file_extension": ".py",
   "mimetype": "text/x-python",
   "name": "python",
   "nbconvert_exporter": "python",
   "pygments_lexer": "ipython3",
   "version": "3.11.5"
  }
 },
 "nbformat": 4,
 "nbformat_minor": 5
}
