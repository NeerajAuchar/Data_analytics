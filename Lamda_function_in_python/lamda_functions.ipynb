{
 "cells": [
  {
   "cell_type": "code",
   "execution_count": 1,
   "id": "20a75f4a",
   "metadata": {},
   "outputs": [],
   "source": [
    "def powerOf2(a):\n",
    "    return a ** 2;"
   ]
  },
  {
   "cell_type": "code",
   "execution_count": 2,
   "id": "5828d125",
   "metadata": {},
   "outputs": [
    {
     "data": {
      "text/plain": [
       "144"
      ]
     },
     "execution_count": 2,
     "metadata": {},
     "output_type": "execute_result"
    }
   ],
   "source": [
    "powerOf2(12)"
   ]
  },
  {
   "cell_type": "code",
   "execution_count": 4,
   "id": "44ebd1d3",
   "metadata": {},
   "outputs": [],
   "source": [
    "ans = lambda x : x ** 2"
   ]
  },
  {
   "cell_type": "code",
   "execution_count": 7,
   "id": "a9f06b2c",
   "metadata": {},
   "outputs": [
    {
     "data": {
      "text/plain": [
       "144"
      ]
     },
     "execution_count": 7,
     "metadata": {},
     "output_type": "execute_result"
    }
   ],
   "source": [
    "ans(12)"
   ]
  },
  {
   "cell_type": "code",
   "execution_count": 8,
   "id": "3c913eb5",
   "metadata": {},
   "outputs": [
    {
     "data": {
      "text/plain": [
       "5.5"
      ]
     },
     "execution_count": 8,
     "metadata": {},
     "output_type": "execute_result"
    }
   ],
   "source": [
    "(lambda x: x/2)(11)"
   ]
  },
  {
   "cell_type": "code",
   "execution_count": 9,
   "id": "61f9f365",
   "metadata": {},
   "outputs": [
    {
     "data": {
      "text/plain": [
       "34.848"
      ]
     },
     "execution_count": 9,
     "metadata": {},
     "output_type": "execute_result"
    }
   ],
   "source": [
    "(lambda x: (2+4 * x ** 4) ** 2/(x+3)**3)(2)"
   ]
  },
  {
   "cell_type": "code",
   "execution_count": 10,
   "id": "41939dcf",
   "metadata": {},
   "outputs": [
    {
     "data": {
      "text/plain": [
       "2038530.0491851852"
      ]
     },
     "execution_count": 10,
     "metadata": {},
     "output_type": "execute_result"
    }
   ],
   "source": [
    "(lambda x: (2+4 * x ** 4) ** 2/(x+3)**3)(12)"
   ]
  },
  {
   "cell_type": "code",
   "execution_count": 11,
   "id": "e8718d34",
   "metadata": {},
   "outputs": [
    {
     "data": {
      "text/plain": [
       "12226.5703125"
      ]
     },
     "execution_count": 11,
     "metadata": {},
     "output_type": "execute_result"
    }
   ],
   "source": [
    "(lambda x: (2+4 * x ** 4) ** 2/(x+3)**3)(5)"
   ]
  },
  {
   "cell_type": "code",
   "execution_count": 12,
   "id": "08911fa5",
   "metadata": {},
   "outputs": [
    {
     "data": {
      "text/plain": [
       "5"
      ]
     },
     "execution_count": 12,
     "metadata": {},
     "output_type": "execute_result"
    }
   ],
   "source": [
    "sum_xy = lambda x,y : x+y\n",
    "sum_xy(2,3)"
   ]
  },
  {
   "cell_type": "code",
   "execution_count": 14,
   "id": "948ff3b8",
   "metadata": {},
   "outputs": [
    {
     "data": {
      "text/plain": [
       "70"
      ]
     },
     "execution_count": 14,
     "metadata": {},
     "output_type": "execute_result"
    }
   ],
   "source": [
    "(lambda x: x*10)(7)"
   ]
  },
  {
   "cell_type": "code",
   "execution_count": null,
   "id": "368c0dc5",
   "metadata": {},
   "outputs": [],
   "source": []
  }
 ],
 "metadata": {
  "kernelspec": {
   "display_name": "Python 3 (ipykernel)",
   "language": "python",
   "name": "python3"
  },
  "language_info": {
   "codemirror_mode": {
    "name": "ipython",
    "version": 3
   },
   "file_extension": ".py",
   "mimetype": "text/x-python",
   "name": "python",
   "nbconvert_exporter": "python",
   "pygments_lexer": "ipython3",
   "version": "3.11.5"
  }
 },
 "nbformat": 4,
 "nbformat_minor": 5
}
