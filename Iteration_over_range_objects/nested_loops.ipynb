{
 "cells": [
  {
   "cell_type": "code",
   "execution_count": 1,
   "id": "8fe0467a",
   "metadata": {},
   "outputs": [
    {
     "name": "stdout",
     "output_type": "stream",
     "text": [
      "0\n",
      "1\n"
     ]
    }
   ],
   "source": [
    "for i in range(2):\n",
    "    print(i)"
   ]
  },
  {
   "cell_type": "code",
   "execution_count": 2,
   "id": "42143770",
   "metadata": {},
   "outputs": [
    {
     "name": "stdout",
     "output_type": "stream",
     "text": [
      "0\n",
      "1\n",
      "2\n",
      "3\n",
      "4\n"
     ]
    }
   ],
   "source": [
    "for j in range(5):\n",
    "    print(j)"
   ]
  },
  {
   "cell_type": "code",
   "execution_count": 3,
   "id": "dc51f7eb",
   "metadata": {},
   "outputs": [
    {
     "name": "stdout",
     "output_type": "stream",
     "text": [
      "0 0\n",
      "0 1\n",
      "0 2\n",
      "0 3\n",
      "0 4\n",
      "1 0\n",
      "1 1\n",
      "1 2\n",
      "1 3\n",
      "1 4\n"
     ]
    }
   ],
   "source": [
    "for i in range(2):\n",
    "    for j in range(5):\n",
    "        print(i,j)"
   ]
  },
  {
   "cell_type": "code",
   "execution_count": 4,
   "id": "06738f18",
   "metadata": {},
   "outputs": [],
   "source": [
    "products = ['Product_A', 'Product_B', 'Product_C']\n",
    "time_horizon = (1,2,3)\n",
    "exp_sales = [1000, 1100, 1200, 1300]"
   ]
  },
  {
   "cell_type": "code",
   "execution_count": 7,
   "id": "37a77c6f",
   "metadata": {},
   "outputs": [
    {
     "name": "stdout",
     "output_type": "stream",
     "text": [
      "The period of scale are Product_A of products 1000\n",
      "The period of scale are Product_A of products 2000\n",
      "The period of scale are Product_A of products 3000\n",
      "The period of scale are Product_A of products 1100\n",
      "The period of scale are Product_A of products 2200\n",
      "The period of scale are Product_A of products 3300\n",
      "The period of scale are Product_A of products 1200\n",
      "The period of scale are Product_A of products 2400\n",
      "The period of scale are Product_A of products 3600\n",
      "The period of scale are Product_A of products 1300\n",
      "The period of scale are Product_A of products 2600\n",
      "The period of scale are Product_A of products 3900\n",
      "The period of scale are Product_B of products 1000\n",
      "The period of scale are Product_B of products 2000\n",
      "The period of scale are Product_B of products 3000\n",
      "The period of scale are Product_B of products 1100\n",
      "The period of scale are Product_B of products 2200\n",
      "The period of scale are Product_B of products 3300\n",
      "The period of scale are Product_B of products 1200\n",
      "The period of scale are Product_B of products 2400\n",
      "The period of scale are Product_B of products 3600\n",
      "The period of scale are Product_B of products 1300\n",
      "The period of scale are Product_B of products 2600\n",
      "The period of scale are Product_B of products 3900\n",
      "The period of scale are Product_C of products 1000\n",
      "The period of scale are Product_C of products 2000\n",
      "The period of scale are Product_C of products 3000\n",
      "The period of scale are Product_C of products 1100\n",
      "The period of scale are Product_C of products 2200\n",
      "The period of scale are Product_C of products 3300\n",
      "The period of scale are Product_C of products 1200\n",
      "The period of scale are Product_C of products 2400\n",
      "The period of scale are Product_C of products 3600\n",
      "The period of scale are Product_C of products 1300\n",
      "The period of scale are Product_C of products 2600\n",
      "The period of scale are Product_C of products 3900\n"
     ]
    }
   ],
   "source": [
    "for i in products:\n",
    "    for j in exp_sales:\n",
    "        for k in time_horizon:\n",
    "            print(\"The period of scale are {} of products {}\".format(i,j*k))"
   ]
  },
  {
   "cell_type": "code",
   "execution_count": 8,
   "id": "e979d8f8",
   "metadata": {},
   "outputs": [
    {
     "name": "stdout",
     "output_type": "stream",
     "text": [
      "0\n",
      "1\n",
      "2\n",
      "3\n",
      "4\n",
      "5\n",
      "6\n",
      "7\n",
      "8\n"
     ]
    }
   ],
   "source": [
    "for i in range(0,9):\n",
    "    print(i)"
   ]
  },
  {
   "cell_type": "code",
   "execution_count": null,
   "id": "7e799578",
   "metadata": {},
   "outputs": [],
   "source": []
  }
 ],
 "metadata": {
  "kernelspec": {
   "display_name": "Python 3 (ipykernel)",
   "language": "python",
   "name": "python3"
  },
  "language_info": {
   "codemirror_mode": {
    "name": "ipython",
    "version": 3
   },
   "file_extension": ".py",
   "mimetype": "text/x-python",
   "name": "python",
   "nbconvert_exporter": "python",
   "pygments_lexer": "ipython3",
   "version": "3.11.5"
  }
 },
 "nbformat": 4,
 "nbformat_minor": 5
}
